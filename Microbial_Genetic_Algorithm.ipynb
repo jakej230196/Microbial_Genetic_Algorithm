{
 "cells": [
  {
   "cell_type": "code",
   "execution_count": null,
   "metadata": {
    "collapsed": true
   },
   "outputs": [],
   "source": [
    "\n"
   ]
  },
  {
   "cell_type": "code",
   "execution_count": 20,
   "metadata": {},
   "outputs": [],
   "source": [
    "import time\n",
    "import collections\n",
    "import random\n",
    "import numpy as np\n",
    "np.set_printoptions(threshold=np.nan)\n",
    "import matplotlib.pyplot as plt\n",
    "\n",
    "Population = np.zeros((10,20))\n",
    "Population = Population.astype(int)\n",
    "# Knapsack Specification\n",
    "Max_Weight = 50;\n",
    "# Value\n",
    "V = [6,19,7,1,13,17,3,18,16,20,5,15,12,11,9,2,14,4,10,8]\n",
    "# Weight\n",
    "W = [10,5,15,18,1,17,12,19,16,4,9,20,13,7,3,2,6,11,8,14]\n"
   ]
  },
  {
   "cell_type": "markdown",
   "metadata": {},
   "source": [
    "### Map weights and values to form PhenoTypes\n",
    "\n",
    "PhenoType[Key][0] is the Weight\n",
    "\n",
    "\n",
    "PhenoType[Key][1] is the Value"
   ]
  },
  {
   "cell_type": "code",
   "execution_count": 21,
   "metadata": {},
   "outputs": [],
   "source": [
    "Geno_Pheno = collections.defaultdict(list)\n",
    "i =0;\n",
    "for i in range(0,len(W)):\n",
    "    Geno_Pheno[i].append(W[i])\n",
    "    Geno_Pheno[i].append(V[i])\n",
    "    i+=1;  \n",
    "    \n"
   ]
  },
  {
   "cell_type": "markdown",
   "metadata": {},
   "source": [
    "### Randomize Population"
   ]
  },
  {
   "cell_type": "code",
   "execution_count": 22,
   "metadata": {},
   "outputs": [],
   "source": [
    "def Randomize_Population(Population):\n",
    "    for x in range(0,len(Population)):\n",
    "        for y in range(0,len(Population[x])):\n",
    "            Population[x][y] = random.randint(0,1)\n",
    "Randomize_Population(Population)"
   ]
  },
  {
   "cell_type": "markdown",
   "metadata": {},
   "source": [
    "### Spatial Mapping"
   ]
  },
  {
   "cell_type": "code",
   "execution_count": 23,
   "metadata": {},
   "outputs": [],
   "source": [
    "Spatial_Individuals = np.zeros((1,len(Population))).astype(int)\n",
    "for i in range(0,len(Population)):\n",
    "    Spatial_Individuals[0][i] = i"
   ]
  },
  {
   "cell_type": "markdown",
   "metadata": {},
   "source": [
    "### Get the Weight & Value of a locus"
   ]
  },
  {
   "cell_type": "code",
   "execution_count": 24,
   "metadata": {},
   "outputs": [],
   "source": [
    "def Get_Geno (x):\n",
    "    return (Geno_Pheno[x])"
   ]
  },
  {
   "cell_type": "markdown",
   "metadata": {},
   "source": [
    "### Get the total weight and value of an individual\n",
    "\n",
    "PARAM = An individual.\n"
   ]
  },
  {
   "cell_type": "code",
   "execution_count": 25,
   "metadata": {},
   "outputs": [
    {
     "name": "stdout",
     "output_type": "stream",
     "text": [
      "[10, 6]\n",
      "[14, 8]\n"
     ]
    },
    {
     "data": {
      "text/plain": [
       "(210, 210)"
      ]
     },
     "execution_count": 25,
     "metadata": {},
     "output_type": "execute_result"
    }
   ],
   "source": [
    "def Get_Fitness(Individual):\n",
    "    total_Value = 0\n",
    "    total_Weight = 0\n",
    "    # Find the individual via index & get each Phenotype\n",
    "    \n",
    "    for i in range(0,20):\n",
    "        # if the locus holds an item\n",
    "        if Individual[i] == 1:\n",
    "            # Get the PhenoType\n",
    "            Pheno = Get_Geno(i)\n",
    "            # Get the PhenoType Weight & Add to total\n",
    "            total_Weight = total_Weight + Pheno[0]\n",
    "            # Get the PhenoType Value & Add to total\n",
    "            total_Value = total_Value + Pheno[1]\n",
    "\n",
    "    return total_Weight,total_Value\n",
    "\n",
    "print(Get_Geno(0))\n",
    "print(Get_Geno(19))\n",
    "x = [1, 1, 1, 1, 1, 1, 1, 1, 1, 1, 1, 1, 1, 1, 1, 1, 1, 1, 1, 1]\n",
    "Get_Fitness(x)\n"
   ]
  },
  {
   "cell_type": "code",
   "execution_count": 26,
   "metadata": {},
   "outputs": [],
   "source": [
    "def Get_Best_Individual(Evolved_Population):\n",
    "    \n",
    "    i=0\n",
    "    Highest_Weight,Highest_Value = Get_Fitness(Evolved_Population[i])\n",
    "    Potential_Best = []\n",
    "    Best_Individual = np.zeros((1,20)).astype(int)\n",
    "    \n",
    "\n",
    "    # Remove any overweight Individuals\n",
    "    for i in range(0,len(Evolved_Population)):\n",
    "        if Get_Fitness(Evolved_Population[i])[0] <= Max_Weight:\n",
    "            Potential_Best.append(i)\n",
    "\n",
    "    # if only one individual is under weight.\n",
    "    if len(Potential_Best) == 1:\n",
    "        return Evolved_Population[Potential_Best[0]]\n",
    "    \n",
    "    # if no individual is under weight.\n",
    "    elif len(Potential_Best) == 0:\n",
    "        Weight =200\n",
    "        value = 1\n",
    "        for i in range(0,len(Evolved_Population)):\n",
    "            if Get_Fitness(Evolved_Population[i])[0] < Weight:\n",
    "                Weight,Value = Get_Fitness(Evolved_Population[i])\n",
    "                Best_Individual = Evolved_Population[i]\n",
    "            if Get_Fitness(Evolved_Population[i])[0] == Weight:\n",
    "                if Get_Fitness(Evolved_Population[i])[1] > Value:\n",
    "                    Best_Individual = Evolved_Population[i]\n",
    "        return Best_Individual\n",
    "                    \n",
    "                    \n",
    "    # if multiple individuals are under weight               \n",
    "    else:\n",
    "        Highest_Value = 1\n",
    "        for i in range(0,len(Potential_Best)):\n",
    "            if Get_Fitness(Evolved_Population[Potential_Best[i]])[1] > Highest_Value:\n",
    "                Highest_Value = Get_Fitness(Evolved_Population[Potential_Best[i]])[1] \n",
    "                Best_Individual = Evolved_Population[Potential_Best[i]]\n",
    "        return Best_Individual\n",
    "    "
   ]
  },
  {
   "cell_type": "code",
   "execution_count": 27,
   "metadata": {},
   "outputs": [],
   "source": [
    "def Get_Worst_Individual(Evolved_Population):\n",
    "    i=0\n",
    "\n",
    "    \n",
    "    Potential_Worst = []\n",
    "    Worst_Individual = np.zeros((1,20))\n",
    "    Worst_Individual = Worst_Individual.astype(int)\n",
    "    # Add individuals over max weight to potential array.\n",
    "    for i in range(0,len(Evolved_Population)):\n",
    "        if Get_Fitness(Evolved_Population[i])[0]  > Max_Weight:\n",
    "            Potential_Worst.append(i)\n",
    "            \n",
    "    # if only one individual is over max weight       \n",
    "    if len(Potential_Worst) == 1:\n",
    "        return Evolved_Population[Potential_Worst[0]]\n",
    "    \n",
    "    # if No individual is over the max weight, return the individual with the lowest weight\n",
    "    elif len(Potential_Worst) == 0: \n",
    "        Lowest_Weight = 150\n",
    "        for i in range(0,len(Evolved_Population)):\n",
    "            if Get_Fitness(Evolved_Population[i])[1] < Lowest_Weight:\n",
    "                Lowest_Weight = Get_Fitness(Evolved_Population[i])[1]\n",
    "                Worst_Individual = Evolved_Population[i]\n",
    "        return Worst_Individual\n",
    "    \n",
    "    # if Multiple individuals are over max weight - return the highest weight\n",
    "    else:\n",
    "        Highest_Weight = 1\n",
    "        for i in range(0,len(Potential_Worst)):\n",
    "            if Get_Fitness(Evolved_Population[Potential_Worst[i]])[0] > Highest_Weight:\n",
    "                Highest_Weight = Get_Fitness(Evolved_Population[Potential_Worst[i]])[0]\n",
    "                Worst_Individual = Evolved_Population[i]\n",
    "        return Worst_Individual\n",
    "            \n",
    " "
   ]
  },
  {
   "cell_type": "code",
   "execution_count": 28,
   "metadata": {},
   "outputs": [],
   "source": [
    "def Get_Avg_Individual_No_Threshold(Evolved_Population):\n",
    "    Avg_Individual = np.zeros((1,20))\n",
    "    Avg_Individual = Avg_Individual.astype(int)\n",
    "    for i in range(0,len(Evolved_Population)):\n",
    "            # Sum up the values of each column from an Evolved Population \n",
    "            for x in range(0,20):\n",
    "                if Evolved_Population[i][x] == 1:\n",
    "                    Avg_Individual[0][x] = Avg_Individual[0][x] + 1  \n",
    "    return Avg_Individual[0]\n",
    "    # Apply a step function.               \n",
    "    #for i in range(0,len(Avg_Individual[0])):\n",
    "        # if more than half of the population have this gene\n",
    "     #   if Avg_Individual[0][i] >= len(Evolved_Population)/2:\n",
    "      #      Avg_Individual[0][i] = 1\n",
    "      #  else:\n",
    "     #      Avg_Individual[0][i] = 0\n",
    "        \n",
    "    "
   ]
  },
  {
   "cell_type": "code",
   "execution_count": 29,
   "metadata": {},
   "outputs": [],
   "source": [
    "def Get_Avg_Individual_With_Threshold(Evolved_Population):\n",
    "    i=0\n",
    "    Avg_Individual = np.zeros((1,20))\n",
    "    Avg_Individual = Avg_Individual.astype(int)\n",
    "    for i in range(0,len(Evolved_Population)):\n",
    "            # Sum up the values of each column from an Evolved Population \n",
    "            for x in range(0,20):\n",
    "                if Evolved_Population[i][x] == 1:\n",
    "                    Avg_Individual[0][x] = Avg_Individual[0][x] + 1  \n",
    "    # Apply a step function.               \n",
    "    for i in range(0,20):\n",
    "        # if more than half of the population have this gene\n",
    "        if Avg_Individual[0][i] >= len(Evolved_Population)/2:\n",
    "            Avg_Individual[0][i] = 1\n",
    "        else:\n",
    "            Avg_Individual[0][i] = 0\n",
    "        \n",
    "    return Avg_Individual[0]"
   ]
  },
  {
   "cell_type": "code",
   "execution_count": 30,
   "metadata": {},
   "outputs": [],
   "source": [
    "def Analyze_Individual_Similarity(x,y):\n",
    "    Similarity = 0\n",
    "    for i in range(0,len(x)):\n",
    "        if x[i] == y[i]:\n",
    "            Similarity = Similarity + 5      \n",
    "    return Similarity\n",
    "    "
   ]
  },
  {
   "cell_type": "code",
   "execution_count": 49,
   "metadata": {},
   "outputs": [],
   "source": [
    "def Write_txt(File_Name,Mutation_Rates,Average_Weights,Average_Values,Average_Generations,Best_Individuals,\n",
    "              Worst_Individuals,Avg_Individuals,Best_Weights,Best_Values,Worst_Weights,Worst_Values,\n",
    "              Avg_Weights,Avg_Values,Pop_Size,Its,Sum_Of_Genes,Pcrossover):\n",
    "    \n",
    "    f= open(str(File_Name),\"w\")\n",
    "    f.write('GA Variables:')\n",
    "    f.write('\\nMutation Rates:')\n",
    "    f.write(str(Mutation_Rates))\n",
    "    f.write('\\nPopulation Size:')\n",
    "    f.write(str(Pop_Size))\n",
    "    f.write('\\nIterations:')\n",
    "    f.write(str(Its))\n",
    "    f.write('\\nCrossover Probability:')\n",
    "    f.write(str(Pcrossover))\n",
    "               \n",
    "            \n",
    "            \n",
    "            \n",
    "            \n",
    "    f.write('\\n\\n RESULTS: \\n\\n')\n",
    "    \n",
    "    f.write('\\n\\n Average Weights\\n')\n",
    "    f.write(str(Average_Weights))\n",
    "    f.write('\\n\\n Average Values\\n')\n",
    "    f.write(str(Average_Values)) \n",
    "    f.write('\\n\\n Average Generations\\n')\n",
    "    f.write(str(Average_Generations)) \n",
    "    f.write('\\n\\n Best Individuals Produced\\n')\n",
    "    f.write(str(Best_Individuals))\n",
    "    f.write('\\n\\n Worst Individuals Produced\\n')\n",
    "    f.write(str(Worst_Individuals))\n",
    "    f.write('\\n\\n Average Individuals Produced\\n')\n",
    "    f.write(str(Avg_Individuals))\n",
    "    f.write('\\n\\n Average Individual Weights\\n')\n",
    "    f.write(str(Avg_Weights))\n",
    "    f.write('\\n\\n Average Individual Values\\n')\n",
    "    f.write(str(Avg_Values))\n",
    "    f.write('\\n\\n Best Individual Weights\\n')\n",
    "    f.write(str(Best_Weights))\n",
    "    f.write('\\n\\n Best Individual Values\\n')\n",
    "    f.write(str(Best_Values))\n",
    "    f.write('\\n\\n Worst Individual Weights\\n')\n",
    "    f.write(str(Worst_Weights))\n",
    "    f.write('\\n\\n Worst Individual Values\\n')\n",
    "    f.write(str(Worst_Values))\n",
    "    f.write('\\n\\n Sum of specific genes given to individuals\\n')\n",
    "    f.write(str(Sum_Of_Genes))\n",
    "    \n",
    "    "
   ]
  },
  {
   "cell_type": "markdown",
   "metadata": {},
   "source": [
    "### Tournement Selection\n",
    "\n",
    "Selects two individuals at random."
   ]
  },
  {
   "cell_type": "code",
   "execution_count": 50,
   "metadata": {},
   "outputs": [],
   "source": [
    "#def Tournement_Selection(Population,Mutation_Rate):\n",
    " #   x = random.randint(0,len(Population) -1)\n",
    "  #  y = random.randint(0,len(Population) -1)\n",
    "    # pass the individuals to the tournemnt\n",
    "   # Tournement(Mutation_Rate,Population[x],Population[y])  \n",
    "    \n",
    "def Tournement_Selection(Population,Mutation_Rate,Spatial_Individuals,Pcrossover):\n",
    "    x = random.randint(0,len(Spatial_Individuals[0])-1)\n",
    "    # Select another individual from local area\n",
    "    y = random.randint(x-2,x+2)\n",
    "    if y < 0:\n",
    "        if y == -1:\n",
    "            y = len(Spatial_Individuals[0]) -1\n",
    "        elif y == -2:\n",
    "            y = len(Spatial_Individuals[0]) -2\n",
    "\n",
    "    elif y > len(Spatial_Individuals[0])-1:\n",
    "        if y == len(Spatial_Individuals[0]):\n",
    "            y = 0\n",
    "        elif y == len(Spatial_Individuals[0])+1:\n",
    "            y = 1\n",
    "    # pass the individuals to the tournemnt\n",
    "    Tournement(Mutation_Rate,Population[x],Population[y],Pcrossover)  \n",
    "    \n",
    "    "
   ]
  },
  {
   "cell_type": "markdown",
   "metadata": {},
   "source": [
    "### Evolve"
   ]
  },
  {
   "cell_type": "code",
   "execution_count": 51,
   "metadata": {},
   "outputs": [],
   "source": [
    "def Evolve(Population,Mutation_Rate,Spatial_Individuals,Pcrossover):\n",
    "    x=0;\n",
    "    while not(Full_Convergence(Population)):   \n",
    "        x = x+1;\n",
    "        for i in range(0,len(Population)):   \n",
    "            Tournement_Selection(Population,Mutation_Rate,Spatial_Individuals,Pcrossover)\n",
    "    return x"
   ]
  },
  {
   "cell_type": "markdown",
   "metadata": {},
   "source": [
    "### Tournement\n",
    "\n",
    "Evaluate fitness of the two individuals.\n",
    "Pass winner and loser to the crossover function."
   ]
  },
  {
   "cell_type": "code",
   "execution_count": 52,
   "metadata": {},
   "outputs": [],
   "source": [
    "def Tournement(Mutation_Rate,x,y,Pcrossover):\n",
    "    Winner,Winner_Vals,Loser,Loser_Vals = Evaluate_Fitness(x,y)\n",
    "    CrossOver(Mutation_Rate,Winner,Loser,Pcrossover)"
   ]
  },
  {
   "cell_type": "markdown",
   "metadata": {},
   "source": [
    "### Evaluate Fitness"
   ]
  },
  {
   "cell_type": "code",
   "execution_count": 53,
   "metadata": {},
   "outputs": [],
   "source": [
    "def Evaluate_Fitness (x,y):\n",
    "    x_ = Get_Fitness(x)\n",
    "    y_ = Get_Fitness(y)\n",
    "\n",
    "    # pick the individual Not over max weight.\n",
    "    if y_[0] <= Max_Weight and x_[0] > Max_Weight:\n",
    "      #  print('Y under and x over max weight')\n",
    "        return y,y_,x,x_\n",
    "    if x_[0] <= Max_Weight and y_[0] > Max_Weight:\n",
    "      #  print('x under and y over max weight',x_,y_)\n",
    "        return x,x_,y,y_  \n",
    "    \n",
    "    # if both are over max weight\n",
    "    if x_[0] > Max_Weight and y_[0] > Max_Weight:\n",
    "      #  print('both over',x_,y_)\n",
    "        if x_[0] < y_[0]:\n",
    "         #   print('both over and x lower weight ',x_,y_)\n",
    "            return x,x_,y,y_\n",
    "        else:\n",
    "         #   print('both over and y lower weight ',x_,y_)\n",
    "            return y,y_,x,x_\n",
    "        \n",
    "    # if both are under max weight\n",
    "    if x_[0] <= Max_Weight and y_[0] <= Max_Weight:\n",
    "      #  print('both under',x_,y_)\n",
    "        if x_[1] > y_[1]:\n",
    "          #  print('both under and x higher value ',x_,y_)\n",
    "            return x,x_,y,y_\n",
    "        if y_[1] > x_[1]:\n",
    "         #   print('both under and y higher value ',x_,y_)\n",
    "            return y,y_,x,x_\n",
    "        if x_[1] == y_[1]:\n",
    "         #   print('both under and equal value ',x_,y_)\n",
    "            if x_[0] < y_[0]:\n",
    "           #     print('Both under with equal value and x has lower weight')\n",
    "                return x,x_,y,y_\n",
    "            else:\n",
    "           #     print('Both under with equal value and y has lower weight')\n",
    "                return y,y_,x,x_\n",
    "            \n",
    "    else:\n",
    "        print('OTHER_______',x,x_,y,y_)\n",
    "    \n",
    "   "
   ]
  },
  {
   "cell_type": "markdown",
   "metadata": {},
   "source": [
    "### CrossOver Function\n",
    "\n",
    "Initial: NO CROSSOVER POINT.\n",
    "        The Winner is Copied onto the loser using a single point crosser, position determined by a randomly generated number.\n",
    "        \n",
    "Additional:\n",
    "            The offspring will be produced from a MULTIPLE POINT CROSSOVER\n",
    "            The tournement will a two tier tournemnt, where winners of a round are awarded one reproduction point, up to a maximum of two. each individual may take part in 2 rounds, but also may take part in none. the individuals are then selected to be parent according to their reproduction poiunts."
   ]
  },
  {
   "cell_type": "code",
   "execution_count": 54,
   "metadata": {},
   "outputs": [],
   "source": [
    "def CrossOver(Mutation_Rate,Winner,Loser,Pcrossover):\n",
    "    #print('Winner before:',Winner)\n",
    "   # print('Loser before:',Loser)\n",
    "    # Copy over the winners values into the loser.\n",
    "    for i in range(0,len(Loser)):\n",
    "        x = random.randint(0,1)\n",
    "        if x >= Pcrossover:\n",
    "            Loser[i] = Winner[i]\n",
    "   # print('Winner:',Winner)\n",
    "    #print('Loser',Loser)\n",
    "    Mutate(Mutation_Rate,Loser) "
   ]
  },
  {
   "cell_type": "markdown",
   "metadata": {},
   "source": [
    "### Mutation Function\n",
    "\n",
    "Mutation consists of flipping the bit at a randomly\n",
    "chosen locus (or, for larger alphabets, replacing a the symbol at a randomly chosen locus with a randomly\n",
    "chosen new symbol).\n",
    "\n",
    "Initial:\n",
    "        Flip bits- if index exceeds length than wrap around.\n",
    "        \n",
    "Adittional:\n",
    "           Replace bits.\n",
    "           \n",
    "Additional 2:\n",
    "           If the max weight is exceeded then increase the mutation rate. = More varience. Will this solve the problem faster?"
   ]
  },
  {
   "cell_type": "code",
   "execution_count": 55,
   "metadata": {},
   "outputs": [],
   "source": [
    "def Mutate (Mutation_Rate,OffSpring):\n",
    "   # print('OffSpring before:',OffSpring)\n",
    "    for i in range(0,len(OffSpring)):\n",
    "        y = random.uniform(0,1)\n",
    "        # If the random number is above the mutation threshold then mutation occurs\n",
    "        if y > Mutation_Rate:\n",
    "            # Random int decided which direction the swap will occur.\n",
    "          #  print('Offspring(i)=:',OffSpring[i])\n",
    "            if OffSpring[i] == 1:\n",
    "             #   print('Before Assignment:',OffSpring[i])\n",
    "                OffSpring[i] = 0\n",
    "               # print('After assignment:',OffSpring[i])\n",
    "            else: OffSpring[i] = 1\n",
    "           # print('Offspring After:',OffSpring)\n",
    "            return OffSpring\n",
    "                \n"
   ]
  },
  {
   "cell_type": "markdown",
   "metadata": {
    "collapsed": true
   },
   "source": [
    "### Full Convergence\n",
    "\n",
    "Loops through the populations; returns true if they are all identical."
   ]
  },
  {
   "cell_type": "code",
   "execution_count": 56,
   "metadata": {},
   "outputs": [],
   "source": [
    "def Full_Convergence(Population):\n",
    "    for i in range(0,len(Population)):\n",
    "        if not(Population[0] == Population[i]).all():\n",
    "            return False\n",
    "    return True"
   ]
  },
  {
   "cell_type": "markdown",
   "metadata": {},
   "source": [
    "### Testing Function\n",
    "\n",
    "Automate the testing procedure.\n",
    "\n",
    "Parameters :  ALL SINGLE VALUE.\n",
    "\n",
    "             Mutation Rate: Can be a set or single\n",
    "             \n",
    "             Population Size:\n",
    "             \n",
    "             Num_Populations: How many different populations to run the GA \n",
    "\n",
    "Individuals produced contains the provided optimal solution from each iteration of the GA.\n",
    "End result will be a matrix of Iterationsx20 size. \n",
    " So it returns a ful matrix; each row is the result of a full iteration of the ga.\n",
    "\n"
   ]
  },
  {
   "cell_type": "code",
   "execution_count": 57,
   "metadata": {},
   "outputs": [],
   "source": [
    "def Analysis(Mutation_Rate,Population_Size,Num_Populations,Pcrossover):\n",
    "\n",
    "    Avg_Convergence =0\n",
    "    Avg_Weight = 0;\n",
    "    Avg_Value = 0;\n",
    "    \n",
    "    # Store each optimal solution from a population\n",
    "    Individuals_Produced = np.zeros((Num_Populations,20))\n",
    "    Individuals_Produced = Individuals_Produced.astype(int)\n",
    "    \n",
    "\n",
    "    for i in range(0,Num_Populations):\n",
    "        \n",
    "        Population = np.zeros((Population_Size,20))\n",
    "        Population = Population.astype(int)\n",
    "        Randomize_Population(Population)\n",
    "        Spatial_Individuals = np.zeros((1,len(Population))).astype(int)\n",
    "        for x in range(0,len(Population)):\n",
    "            Spatial_Individuals[0][x] = x\n",
    "        \n",
    "\n",
    "        Fully_Converged = Evolve(Population,Mutation_Rate,Spatial_Individuals,Pcrossover)\n",
    "        Avg_Convergence = Avg_Convergence + Fully_Converged\n",
    "        x = Get_Fitness(Population[0])\n",
    "        Avg_Weight = Avg_Weight + x[0]\n",
    "        Avg_Value = Avg_Value + x[1]\n",
    "        \n",
    "        # Once the population is fully converged, store the solution into Individuals_Produced\n",
    "        Individuals_Produced[i] = Population[0]\n",
    "        #print(Individuals_Produced)\n",
    "    # Individuals_ Produced contains the solution provided for each iteration of the GA. results in a iterationsx20 matrix\n",
    "    return Avg_Convergence/Num_Populations,Avg_Weight/Num_Populations,Avg_Value/Num_Populations,Individuals_Produced\n",
    "    "
   ]
  },
  {
   "cell_type": "code",
   "execution_count": null,
   "metadata": {},
   "outputs": [],
   "source": []
  },
  {
   "cell_type": "markdown",
   "metadata": {},
   "source": [
    "### Comparison Function\n",
    "\n",
    "Executes the analysis function to get average statistics from GA execution. Saves results to a specified file name.\n",
    "\n",
    "PARAMS:\n",
    "\n",
    "        File name: function creates a new text file; what should it be called\n",
    "        \n",
    "        Mutation rate: Can be a set or single.\n",
    "        \n",
    "        Population_Size:\n",
    "        \n",
    "        Iterations:\n",
    "        \n",
    "Passes only single vallues to the analysis function\n",
    "\n",
    "\n",
    "\n",
    "Compare function:\n",
    "\n",
    "                Gets the average Convergence,Weight,Values and the individuals produced -  returned as a matrix from analysis function"
   ]
  },
  {
   "cell_type": "code",
   "execution_count": 58,
   "metadata": {},
   "outputs": [
    {
     "name": "stdout",
     "output_type": "stream",
     "text": [
      "population size 0.98 Crossover Probability 0.1 complete\n",
      "population size 0.98 Crossover Probability 0.2 complete\n",
      "population size 0.98 Crossover Probability 0.3 complete\n",
      "population size 0.98 Crossover Probability 0.4 complete\n",
      "population size 0.98 Crossover Probability 0.5 complete\n",
      "population size 0.98 Crossover Probability 0.6 complete\n",
      "population size 0.98 Crossover Probability 0.7 complete\n",
      "population size 0.98 Crossover Probability 0.8 complete\n",
      "population size 0.98 Crossover Probability 0.9 complete\n",
      "population size 0.98 Crossover Probability 1 complete\n",
      "population size 0.985 Crossover Probability 0.1 complete\n",
      "population size 0.985 Crossover Probability 0.2 complete\n",
      "population size 0.985 Crossover Probability 0.3 complete\n",
      "population size 0.985 Crossover Probability 0.4 complete\n",
      "population size 0.985 Crossover Probability 0.5 complete\n",
      "population size 0.985 Crossover Probability 0.6 complete\n",
      "population size 0.985 Crossover Probability 0.7 complete\n",
      "population size 0.985 Crossover Probability 0.8 complete\n",
      "population size 0.985 Crossover Probability 0.9 complete\n",
      "population size 0.985 Crossover Probability 1 complete\n",
      "population size 0.99 Crossover Probability 0.1 complete\n",
      "population size 0.99 Crossover Probability 0.2 complete\n",
      "population size 0.99 Crossover Probability 0.3 complete\n",
      "population size 0.99 Crossover Probability 0.4 complete\n",
      "population size 0.99 Crossover Probability 0.5 complete\n",
      "population size 0.99 Crossover Probability 0.6 complete\n",
      "population size 0.99 Crossover Probability 0.7 complete\n",
      "population size 0.99 Crossover Probability 0.8 complete\n",
      "population size 0.99 Crossover Probability 0.9 complete\n",
      "population size 0.99 Crossover Probability 1 complete\n",
      "population size 0.995 Crossover Probability 0.1 complete\n",
      "population size 0.995 Crossover Probability 0.2 complete\n",
      "population size 0.995 Crossover Probability 0.3 complete\n",
      "population size 0.995 Crossover Probability 0.4 complete\n",
      "population size 0.995 Crossover Probability 0.5 complete\n",
      "population size 0.995 Crossover Probability 0.6 complete\n",
      "population size 0.995 Crossover Probability 0.7 complete\n",
      "population size 0.995 Crossover Probability 0.8 complete\n",
      "population size 0.995 Crossover Probability 0.9 complete\n",
      "population size 0.995 Crossover Probability 1 complete\n",
      "population size 1 Crossover Probability 0.1 complete\n",
      "population size 1 Crossover Probability 0.2 complete\n",
      "population size 1 Crossover Probability 0.3 complete\n",
      "population size 1 Crossover Probability 0.4 complete\n",
      "population size 1 Crossover Probability 0.5 complete\n",
      "population size 1 Crossover Probability 0.6 complete\n",
      "population size 1 Crossover Probability 0.7 complete\n",
      "population size 1 Crossover Probability 0.8 complete\n",
      "population size 1 Crossover Probability 0.9 complete\n",
      "population size 1 Crossover Probability 1 complete\n"
     ]
    }
   ],
   "source": [
    "def Compare(File_Name,Mutation_Rate,Population_Size,Iterations,Pcrossover):\n",
    "    \n",
    "    Avg_Weights = np.zeros((len(Mutation_Rate),len(Pcrossover)))\n",
    "    Avg_Weights = Avg_Weights.astype(int)\n",
    "    Avg_Values = np.zeros((len(Mutation_Rate),len(Pcrossover)))\n",
    "    Avg_Values = Avg_Values.astype(int)\n",
    "    Avg_Generations = np.zeros((len(Mutation_Rate),len(Pcrossover)))\n",
    "    Avg_Generations = Avg_Generations.astype(int)\n",
    "    \n",
    "    Worst_Individual_Weights = np.zeros((len(Mutation_Rate),len(Pcrossover)))\n",
    "    Worst_Individual_Weights = Worst_Individual_Weights.astype(int)\n",
    "    Worst_Individual_Values = np.zeros((len(Mutation_Rate),len(Pcrossover)))\n",
    "    Worst_Individual_Values = Worst_Individual_Values.astype(int)\n",
    "    \n",
    "    Best_Individual_Weights = np.zeros((len(Mutation_Rate),len(Pcrossover)))\n",
    "    Best_Individual_Weights = Best_Individual_Weights.astype(int) \n",
    "    Best_Individual_Values = np.zeros((len(Mutation_Rate),len(Pcrossover)))\n",
    "    Best_Individual_Values = Best_Individual_Values.astype(int)\n",
    "    \n",
    "    \n",
    "    Bbest_Individual_Weights = np.zeros((len(Mutation_Rate),len(Pcrossover)))\n",
    "    Bbest_Individual_Weights = Bbest_Individual_Weights.astype(int)\n",
    "    Bbest_Individual_Values = np.zeros((len(Mutation_Rate),len(Pcrossover)))\n",
    "    Bbest_Individual_Values = Bbest_Individual_Values.astype(int)\n",
    "    \n",
    "    Average_Individual_Weights = np.zeros((len(Mutation_Rate),len(Pcrossover)))\n",
    "    Average_Individual_Weights = Average_Individual_Weights.astype(int)\n",
    "    Average_Individual_Values = np.zeros((len(Mutation_Rate),len(Pcrossover)))\n",
    "    Average_Individual_Values = Average_Individual_Values.astype(int)\n",
    "    \n",
    "    \n",
    "    \n",
    "    Best_Individuals_Produced = np.zeros((len(Mutation_Rate)*len(Pcrossover),20)).astype(int)\n",
    "\n",
    "    \n",
    "    Avg_Individuals_Produced = np.zeros((len(Mutation_Rate)*len(Pcrossover),20)).astype(int)\n",
    "\n",
    "    \n",
    "    Sum_Genes_Of_Individuals_Produced = np.zeros((len(Mutation_Rate)*len(Pcrossover),20)).astype(int)\n",
    "    \n",
    "    \n",
    "    Worst_Individuals_Produced = np.zeros((len(Mutation_Rate)*len(Pcrossover),20)).astype(int)\n",
    "\n",
    "    \n",
    "    Avg_Worst_Individuals_Produced = np.zeros((len(Mutation_Rate)*len(Pcrossover),20)).astype(int)\n",
    "  \n",
    "    \n",
    "    Avg_Best_Individuals_Produced = np.zeros((len(Mutation_Rate)*len(Pcrossover),20)).astype(int)\n",
    "\n",
    "    \n",
    "    # Here i need to get: Average weights,values,generations, similarity. Best,worst and average individual.  \n",
    "    \n",
    "    y=-1\n",
    "    # For each population size \n",
    "    for i in range(0,len(Mutation_Rate)):\n",
    "        # Loop the entire mutation rate vector\n",
    "        for x in range(0,len(Pcrossover)):\n",
    "            y = y+1\n",
    "          \n",
    "            Avg_Convergence,Avg_Weight,Avg_Value,Individuals = Analysis(Mutation_Rate[i],Population_Size,Iterations,Pcrossover[x])\n",
    "            # Average weight\n",
    "            Avg_Weights[i][x] = Avg_Weight\n",
    "             # Average value.\n",
    "            Avg_Values[i][x] = Avg_Value\n",
    "            # Average generations for full convergence.\n",
    "            Avg_Generations[i][x] = Avg_Convergence\n",
    "\n",
    "\n",
    "             # Best,worst and average individuals produced can be obtained form the individuals variable\n",
    "            Best_Individual = Get_Best_Individual(Individuals) \n",
    "            Avg_Individual = Get_Avg_Individual_With_Threshold(Individuals)\n",
    "            Sum_Of_Genes = Get_Avg_Individual_No_Threshold(Individuals)\n",
    "\n",
    "            Worst_Individual = Get_Worst_Individual(Individuals)\n",
    "\n",
    "            # Store the best,worst and average individuals produced into matricies\n",
    "            Best_Individuals_Produced[y] = Best_Individual\n",
    "            Avg_Individuals_Produced[y]  = Avg_Individual\n",
    "            Worst_Individuals_Produced[y] = Worst_Individual\n",
    "            Sum_Genes_Of_Individuals_Produced[y] = Sum_Of_Genes\n",
    "\n",
    "            # Store the best,worst and average individuals Weight,value's produced into matricies\n",
    "            Best_Individual_Weights[i][x],Best_Individual_Values[i][x] = Get_Fitness(Best_Individual)\n",
    "            Worst_Individual_Weights[i][x],Worst_Individual_Values[i][x] = Get_Fitness(Worst_Individual)\n",
    "            Average_Individual_Weights[i][x],Average_Individual_Values[i][x] = Get_Fitness(Avg_Individual) \n",
    "            print('population size',Mutation_Rate[i],'Crossover Probability',Pcrossover[x],'complete')\n",
    "            \n",
    "            \n",
    "            \n",
    "    Write_txt(File_Name,Mutation_Rate,Avg_Weights,Avg_Values,Avg_Generations,\n",
    "    Best_Individuals_Produced,Worst_Individuals_Produced,Avg_Individuals_Produced,\n",
    "    Best_Individual_Weights,Best_Individual_Values,Worst_Individual_Weights,Worst_Individual_Values,\n",
    "    Average_Individual_Weights,Average_Individual_Values,Population_Size,Iterations,Sum_Genes_Of_Individuals_Produced,Pcrossover)\n",
    "    \n",
    "\n",
    "Compare('Microbial_GA_Mutation_CHANGE_POP10',[0.98, 0.985, 0.99, 0.995, 1],1,2,[0.1,0.2,0.3,0.4,0.5,0.6,0.7,0.8,0.9,1])\n"
   ]
  },
  {
   "cell_type": "code",
   "execution_count": 68,
   "metadata": {},
   "outputs": [
    {
     "ename": "KeyboardInterrupt",
     "evalue": "",
     "output_type": "error",
     "traceback": [
      "\u001b[0;31m---------------------------------------------------------------------------\u001b[0m",
      "\u001b[0;31mKeyboardInterrupt\u001b[0m                         Traceback (most recent call last)",
      "\u001b[0;32m<ipython-input-68-5c9404902cc3>\u001b[0m in \u001b[0;36m<module>\u001b[0;34m()\u001b[0m\n\u001b[1;32m      1\u001b[0m \u001b[0;34m\u001b[0m\u001b[0m\n\u001b[0;32m----> 2\u001b[0;31m \u001b[0mx\u001b[0m \u001b[0;34m=\u001b[0m \u001b[0mAvg_Convergence\u001b[0m\u001b[0;34m,\u001b[0m\u001b[0mAvg_Weight\u001b[0m\u001b[0;34m,\u001b[0m\u001b[0mAvg_Value\u001b[0m\u001b[0;34m,\u001b[0m\u001b[0mIndividual\u001b[0m \u001b[0;34m=\u001b[0m \u001b[0mAnalysis\u001b[0m\u001b[0;34m(\u001b[0m\u001b[0;36m0.95\u001b[0m\u001b[0;34m,\u001b[0m\u001b[0;36m10\u001b[0m\u001b[0;34m,\u001b[0m\u001b[0;36m10\u001b[0m\u001b[0;34m,\u001b[0m\u001b[0;36m0.1\u001b[0m\u001b[0;34m)\u001b[0m\u001b[0;34m\u001b[0m\u001b[0m\n\u001b[0m\u001b[1;32m      3\u001b[0m \u001b[0my\u001b[0m \u001b[0;34m=\u001b[0m \u001b[0mAvg_Convergence\u001b[0m\u001b[0;34m,\u001b[0m\u001b[0mAvg_Weight\u001b[0m\u001b[0;34m,\u001b[0m\u001b[0mAvg_Value\u001b[0m\u001b[0;34m,\u001b[0m\u001b[0mIndividual\u001b[0m \u001b[0;34m=\u001b[0m \u001b[0mAnalysis\u001b[0m\u001b[0;34m(\u001b[0m\u001b[0;36m1\u001b[0m\u001b[0;34m,\u001b[0m\u001b[0;36m10\u001b[0m\u001b[0;34m,\u001b[0m\u001b[0;36m10\u001b[0m\u001b[0;34m,\u001b[0m\u001b[0;36m0.1\u001b[0m\u001b[0;34m)\u001b[0m\u001b[0;34m\u001b[0m\u001b[0m\n\u001b[1;32m      4\u001b[0m \u001b[0;34m\u001b[0m\u001b[0m\n\u001b[1;32m      5\u001b[0m \u001b[0mprint\u001b[0m\u001b[0;34m(\u001b[0m\u001b[0;34m'x\"s Number of generations for full convergence:'\u001b[0m\u001b[0;34m,\u001b[0m\u001b[0mx\u001b[0m\u001b[0;34m[\u001b[0m\u001b[0;36m0\u001b[0m\u001b[0;34m]\u001b[0m\u001b[0;34m)\u001b[0m\u001b[0;34m\u001b[0m\u001b[0m\n",
      "\u001b[0;32m<ipython-input-57-5363aaf8786c>\u001b[0m in \u001b[0;36mAnalysis\u001b[0;34m(Mutation_Rate, Population_Size, Num_Populations, Pcrossover)\u001b[0m\n\u001b[1;32m     20\u001b[0m \u001b[0;34m\u001b[0m\u001b[0m\n\u001b[1;32m     21\u001b[0m \u001b[0;34m\u001b[0m\u001b[0m\n\u001b[0;32m---> 22\u001b[0;31m         \u001b[0mFully_Converged\u001b[0m \u001b[0;34m=\u001b[0m \u001b[0mEvolve\u001b[0m\u001b[0;34m(\u001b[0m\u001b[0mPopulation\u001b[0m\u001b[0;34m,\u001b[0m\u001b[0mMutation_Rate\u001b[0m\u001b[0;34m,\u001b[0m\u001b[0mSpatial_Individuals\u001b[0m\u001b[0;34m,\u001b[0m\u001b[0mPcrossover\u001b[0m\u001b[0;34m)\u001b[0m\u001b[0;34m\u001b[0m\u001b[0m\n\u001b[0m\u001b[1;32m     23\u001b[0m         \u001b[0mAvg_Convergence\u001b[0m \u001b[0;34m=\u001b[0m \u001b[0mAvg_Convergence\u001b[0m \u001b[0;34m+\u001b[0m \u001b[0mFully_Converged\u001b[0m\u001b[0;34m\u001b[0m\u001b[0m\n\u001b[1;32m     24\u001b[0m         \u001b[0mx\u001b[0m \u001b[0;34m=\u001b[0m \u001b[0mGet_Fitness\u001b[0m\u001b[0;34m(\u001b[0m\u001b[0mPopulation\u001b[0m\u001b[0;34m[\u001b[0m\u001b[0;36m0\u001b[0m\u001b[0;34m]\u001b[0m\u001b[0;34m)\u001b[0m\u001b[0;34m\u001b[0m\u001b[0m\n",
      "\u001b[0;32m<ipython-input-51-26e5b3dcc195>\u001b[0m in \u001b[0;36mEvolve\u001b[0;34m(Population, Mutation_Rate, Spatial_Individuals, Pcrossover)\u001b[0m\n\u001b[1;32m      4\u001b[0m         \u001b[0mx\u001b[0m \u001b[0;34m=\u001b[0m \u001b[0mx\u001b[0m\u001b[0;34m+\u001b[0m\u001b[0;36m1\u001b[0m\u001b[0;34m;\u001b[0m\u001b[0;34m\u001b[0m\u001b[0m\n\u001b[1;32m      5\u001b[0m         \u001b[0;32mfor\u001b[0m \u001b[0mi\u001b[0m \u001b[0;32min\u001b[0m \u001b[0mrange\u001b[0m\u001b[0;34m(\u001b[0m\u001b[0;36m0\u001b[0m\u001b[0;34m,\u001b[0m\u001b[0mlen\u001b[0m\u001b[0;34m(\u001b[0m\u001b[0mPopulation\u001b[0m\u001b[0;34m)\u001b[0m\u001b[0;34m)\u001b[0m\u001b[0;34m:\u001b[0m\u001b[0;34m\u001b[0m\u001b[0m\n\u001b[0;32m----> 6\u001b[0;31m             \u001b[0mTournement_Selection\u001b[0m\u001b[0;34m(\u001b[0m\u001b[0mPopulation\u001b[0m\u001b[0;34m,\u001b[0m\u001b[0mMutation_Rate\u001b[0m\u001b[0;34m,\u001b[0m\u001b[0mSpatial_Individuals\u001b[0m\u001b[0;34m,\u001b[0m\u001b[0mPcrossover\u001b[0m\u001b[0;34m)\u001b[0m\u001b[0;34m\u001b[0m\u001b[0m\n\u001b[0m\u001b[1;32m      7\u001b[0m     \u001b[0;32mreturn\u001b[0m \u001b[0mx\u001b[0m\u001b[0;34m\u001b[0m\u001b[0m\n",
      "\u001b[0;32m<ipython-input-50-c0616b4aca00>\u001b[0m in \u001b[0;36mTournement_Selection\u001b[0;34m(Population, Mutation_Rate, Spatial_Individuals, Pcrossover)\u001b[0m\n\u001b[1;32m     21\u001b[0m             \u001b[0my\u001b[0m \u001b[0;34m=\u001b[0m \u001b[0;36m1\u001b[0m\u001b[0;34m\u001b[0m\u001b[0m\n\u001b[1;32m     22\u001b[0m     \u001b[0;31m# pass the individuals to the tournemnt\u001b[0m\u001b[0;34m\u001b[0m\u001b[0;34m\u001b[0m\u001b[0m\n\u001b[0;32m---> 23\u001b[0;31m     \u001b[0mTournement\u001b[0m\u001b[0;34m(\u001b[0m\u001b[0mMutation_Rate\u001b[0m\u001b[0;34m,\u001b[0m\u001b[0mPopulation\u001b[0m\u001b[0;34m[\u001b[0m\u001b[0mx\u001b[0m\u001b[0;34m]\u001b[0m\u001b[0;34m,\u001b[0m\u001b[0mPopulation\u001b[0m\u001b[0;34m[\u001b[0m\u001b[0my\u001b[0m\u001b[0;34m]\u001b[0m\u001b[0;34m,\u001b[0m\u001b[0mPcrossover\u001b[0m\u001b[0;34m)\u001b[0m\u001b[0;34m\u001b[0m\u001b[0m\n\u001b[0m\u001b[1;32m     24\u001b[0m \u001b[0;34m\u001b[0m\u001b[0m\n\u001b[1;32m     25\u001b[0m \u001b[0;34m\u001b[0m\u001b[0m\n",
      "\u001b[0;32m<ipython-input-52-4473f98de65b>\u001b[0m in \u001b[0;36mTournement\u001b[0;34m(Mutation_Rate, x, y, Pcrossover)\u001b[0m\n\u001b[1;32m      1\u001b[0m \u001b[0;32mdef\u001b[0m \u001b[0mTournement\u001b[0m\u001b[0;34m(\u001b[0m\u001b[0mMutation_Rate\u001b[0m\u001b[0;34m,\u001b[0m\u001b[0mx\u001b[0m\u001b[0;34m,\u001b[0m\u001b[0my\u001b[0m\u001b[0;34m,\u001b[0m\u001b[0mPcrossover\u001b[0m\u001b[0;34m)\u001b[0m\u001b[0;34m:\u001b[0m\u001b[0;34m\u001b[0m\u001b[0m\n\u001b[0;32m----> 2\u001b[0;31m     \u001b[0mWinner\u001b[0m\u001b[0;34m,\u001b[0m\u001b[0mWinner_Vals\u001b[0m\u001b[0;34m,\u001b[0m\u001b[0mLoser\u001b[0m\u001b[0;34m,\u001b[0m\u001b[0mLoser_Vals\u001b[0m \u001b[0;34m=\u001b[0m \u001b[0mEvaluate_Fitness\u001b[0m\u001b[0;34m(\u001b[0m\u001b[0mx\u001b[0m\u001b[0;34m,\u001b[0m\u001b[0my\u001b[0m\u001b[0;34m)\u001b[0m\u001b[0;34m\u001b[0m\u001b[0m\n\u001b[0m\u001b[1;32m      3\u001b[0m     \u001b[0mCrossOver\u001b[0m\u001b[0;34m(\u001b[0m\u001b[0mMutation_Rate\u001b[0m\u001b[0;34m,\u001b[0m\u001b[0mWinner\u001b[0m\u001b[0;34m,\u001b[0m\u001b[0mLoser\u001b[0m\u001b[0;34m,\u001b[0m\u001b[0mPcrossover\u001b[0m\u001b[0;34m)\u001b[0m\u001b[0;34m\u001b[0m\u001b[0m\n",
      "\u001b[0;32m<ipython-input-53-bf5a8840b48c>\u001b[0m in \u001b[0;36mEvaluate_Fitness\u001b[0;34m(x, y)\u001b[0m\n\u001b[1;32m      1\u001b[0m \u001b[0;32mdef\u001b[0m \u001b[0mEvaluate_Fitness\u001b[0m \u001b[0;34m(\u001b[0m\u001b[0mx\u001b[0m\u001b[0;34m,\u001b[0m\u001b[0my\u001b[0m\u001b[0;34m)\u001b[0m\u001b[0;34m:\u001b[0m\u001b[0;34m\u001b[0m\u001b[0m\n\u001b[1;32m      2\u001b[0m     \u001b[0mx_\u001b[0m \u001b[0;34m=\u001b[0m \u001b[0mGet_Fitness\u001b[0m\u001b[0;34m(\u001b[0m\u001b[0mx\u001b[0m\u001b[0;34m)\u001b[0m\u001b[0;34m\u001b[0m\u001b[0m\n\u001b[0;32m----> 3\u001b[0;31m     \u001b[0my_\u001b[0m \u001b[0;34m=\u001b[0m \u001b[0mGet_Fitness\u001b[0m\u001b[0;34m(\u001b[0m\u001b[0my\u001b[0m\u001b[0;34m)\u001b[0m\u001b[0;34m\u001b[0m\u001b[0m\n\u001b[0m\u001b[1;32m      4\u001b[0m \u001b[0;34m\u001b[0m\u001b[0m\n\u001b[1;32m      5\u001b[0m     \u001b[0;31m# pick the individual Not over max weight.\u001b[0m\u001b[0;34m\u001b[0m\u001b[0;34m\u001b[0m\u001b[0m\n",
      "\u001b[0;32m<ipython-input-25-86ee97024f9f>\u001b[0m in \u001b[0;36mGet_Fitness\u001b[0;34m(Individual)\u001b[0m\n\u001b[1;32m      6\u001b[0m     \u001b[0;32mfor\u001b[0m \u001b[0mi\u001b[0m \u001b[0;32min\u001b[0m \u001b[0mrange\u001b[0m\u001b[0;34m(\u001b[0m\u001b[0;36m0\u001b[0m\u001b[0;34m,\u001b[0m\u001b[0;36m20\u001b[0m\u001b[0;34m)\u001b[0m\u001b[0;34m:\u001b[0m\u001b[0;34m\u001b[0m\u001b[0m\n\u001b[1;32m      7\u001b[0m         \u001b[0;31m# if the locus holds an item\u001b[0m\u001b[0;34m\u001b[0m\u001b[0;34m\u001b[0m\u001b[0m\n\u001b[0;32m----> 8\u001b[0;31m         \u001b[0;32mif\u001b[0m \u001b[0mIndividual\u001b[0m\u001b[0;34m[\u001b[0m\u001b[0mi\u001b[0m\u001b[0;34m]\u001b[0m \u001b[0;34m==\u001b[0m \u001b[0;36m1\u001b[0m\u001b[0;34m:\u001b[0m\u001b[0;34m\u001b[0m\u001b[0m\n\u001b[0m\u001b[1;32m      9\u001b[0m             \u001b[0;31m# Get the PhenoType\u001b[0m\u001b[0;34m\u001b[0m\u001b[0;34m\u001b[0m\u001b[0m\n\u001b[1;32m     10\u001b[0m             \u001b[0mPheno\u001b[0m \u001b[0;34m=\u001b[0m \u001b[0mGet_Geno\u001b[0m\u001b[0;34m(\u001b[0m\u001b[0mi\u001b[0m\u001b[0;34m)\u001b[0m\u001b[0;34m\u001b[0m\u001b[0m\n",
      "\u001b[0;31mKeyboardInterrupt\u001b[0m: "
     ]
    }
   ],
   "source": [
    "    \n",
    "x = Avg_Convergence,Avg_Weight,Avg_Value,Individual = Analysis(0.95,10,10,0.1)\n",
    "y = Avg_Convergence,Avg_Weight,Avg_Value,Individual = Analysis(1,10,10,0.1)\n",
    "\n",
    "print('x\"s Number of generations for full convergence:',x[0])\n",
    "print('Average weight of the individuals:',x[1])\n",
    "print('Average Value of the inddividuals:',x[2])\n",
    "\n",
    "print('y\"s Number of generations for full convergence:',y[0])\n",
    "print('Average weight of the individuals:',y[1])\n",
    "print('Average Value of the inddividuals:',y[2])\n",
    "\n",
    "\n",
    "\n",
    "print('\\n\\n')\n",
    "# Gets the Best individual from an evolved population\n",
    "Best_x = Get_Best_Individual(x[3])\n",
    "Best_y = Get_Best_Individual(y[3])\n",
    "print('Best individual from x fitness:',Get_Fitness(Best_x))\n",
    "print('Best Individual From y fitness:',Get_Fitness(Best_y))\n",
    "print('Best Individual From x fitness:',Best_x)\n",
    "print('Best Individual From y fitness:',Best_y)\n",
    "print('Similarity between two two best individuals:',Analyze_Individual_Similarity(Best_x,Best_y))\n",
    "\n",
    "\n",
    "print('\\n\\n\\n\\n')\n",
    "# Gets the Avg individual from an evolved population\n",
    "Avg_x = Get_Avg_Individual(x[3])\n",
    "Avg_y = Get_Avg_Individual(y[3])\n",
    "print('Avg individual from x fitness:',Get_Fitness(Avg_x[0]))\n",
    "print('Avg Individual From y fitness:',Get_Fitness(Avg_y[0]))\n",
    "print('Avg Individual From x fitness:',Avg_x)\n",
    "print('Avg Individual From y fitness:',Avg_y)\n",
    "print('Similarity between two two Avg individuals:',Analyze_Individual_Similarity(Avg_x[0],Avg_y[0]))"
   ]
  },
  {
   "cell_type": "markdown",
   "metadata": {},
   "source": [
    "Old comparison function."
   ]
  },
  {
   "cell_type": "code",
   "execution_count": 61,
   "metadata": {},
   "outputs": [],
   "source": [
    "Average_Weights =[0,0,0,0,0,0,0,0,0]\n",
    "Average_Values =[0,0,0,0,0,0,0,0,0]\n",
    "Average_Generations =[0,0,0,0,0,0,0,0,0]\n",
    "Mutation_Rates = [0.960,0.965,0.970,0.975,0.980,0.985,0.990,0.995,1.0]\n",
    "#print(len(Averages))\n",
    "#print(len(Mutation_Rates))\n",
    "Before = time.time()\n",
    "def AVG():\n",
    "    for i in range(0,len(Mutation_Rates)):\n",
    "        Avg_Convergence,Avg_Weight,Avg_Value,Individual = Analysis(Mutation_Rates[i],10,10)\n",
    "        Average_Weights[i] = Avg_Weight\n",
    "        Average_Values[i] = Avg_Value\n",
    "        Average_Generations[i] = Avg_Convergence\n",
    "    f= open(\"AIAB_Steady_State_Output_Averages_Changed_Mutation_Rates.txt\",\"w\")\n",
    "    f.write('Mutation Rates:')\n",
    "    f.write(str(Mutation_Rates))\n",
    "    f.write('\\n Average Weights')\n",
    "    f.write(str(Average_Weights))\n",
    "    f.write('\\n Average Values')\n",
    "    f.write(str(Average_Values)) \n",
    "    f.write('\\n Average Generations')\n",
    "    f.write(str(Average_Generations)) \n",
    "    print(Average_Weights)\n",
    "    print(Average_Values)\n",
    "    print(Average_Generations)\n"
   ]
  },
  {
   "cell_type": "code",
   "execution_count": null,
   "metadata": {},
   "outputs": [],
   "source": [
    "\n",
    "    "
   ]
  },
  {
   "cell_type": "code",
   "execution_count": 62,
   "metadata": {},
   "outputs": [
    {
     "data": {
      "image/png": "[encoded data removed]",
      "text/plain": [
       "<Figure size 432x288 with 1 Axes>"
      ]
     },
     "metadata": {},
     "output_type": "display_data"
    }
   ],
   "source": [
    "\n",
    "\n",
    "Gens = [464, 204, 104,  39,  25,  16,  13,   3,   4]\n",
    "\n",
    "Mut = [0.96, 0.965, 0.97, 0.975, 0.98, 0.985, 0.99, 0.995, 1.0]\n",
    "\n",
    "plt.plot(Mut,Gens)\n",
    "plt.ylabel('Generations')\n",
    "plt.xlabel('Mutation Rate')\n",
    "plt.yticks([100,200,300,400,500])\n",
    "plt.grid(which='both')\n",
    "plt.grid(which='minor', alpha=0.2)\n",
    "plt.grid(which='major', alpha=0.5)\n",
    "plt.show()\n",
    "\n",
    "\n"
   ]
  },
  {
   "cell_type": "code",
   "execution_count": 63,
   "metadata": {},
   "outputs": [
    {
     "data": {
      "image/png": "[encoded data removed]",
      "text/plain": [
       "<Figure size 432x288 with 1 Axes>"
      ]
     },
     "metadata": {},
     "output_type": "display_data"
    }
   ],
   "source": [
    "plt.plot([1, 2, 3, 4])\n",
    "plt.ylabel('some numbers')\n",
    "plt.show()\n"
   ]
  },
  {
   "cell_type": "code",
   "execution_count": 64,
   "metadata": {},
   "outputs": [
    {
     "data": {
      "image/png": "[encoded data removed]",
      "text/plain": [
       "<Figure size 432x288 with 1 Axes>"
      ]
     },
     "metadata": {},
     "output_type": "display_data"
    }
   ],
   "source": [
    "fig = plt.figure()\n",
    "ax = fig.add_subplot(1, 1, 1)\n",
    "\n",
    "major_ticks = np.arange(0,600,100)\n",
    "minor_ticks = np.arange(0, 600, 50)\n",
    "ax.set_xlabel(\"Mutation Rate\", color=\"C7\")\n",
    "ax.set_ylabel(\"Generations\", color=\"C7\")\n",
    "ax.tick_params(axis='x', colors=\"C7\")\n",
    "ax.tick_params(axis='y', colors=\"C7\")\n",
    "ax.set_xticks(major_ticks)\n",
    "ax.set_xticks(minor_ticks, minor=True)\n",
    "ax.set_yticks(major_ticks)\n",
    "ax.set_yticks(minor_ticks, minor=True)\n",
    "ax.grid(which='both')\n",
    "ax.grid(which='minor', alpha=0.2)\n",
    "ax.grid(which='major', alpha=0.5)\n",
    "\n",
    "plt.show()"
   ]
  },
  {
   "cell_type": "markdown",
   "metadata": {},
   "source": [
    "Use this for presenting reulst from all three GA'S in the report. "
   ]
  },
  {
   "cell_type": "code",
   "execution_count": 65,
   "metadata": {},
   "outputs": [
    {
     "data": {
      "image/png": "[encoded data removed]",
      "text/plain": [
       "<Figure size 432x288 with 2 Axes>"
      ]
     },
     "metadata": {},
     "output_type": "display_data"
    }
   ],
   "source": [
    "fig = plt.figure()\n",
    "fig.add_subplot(211)   #top left\n",
    "fig.add_subplot(212)   #top right\n",
    "   #bottom left\n",
    "\n",
    "plt.show()"
   ]
  },
  {
   "cell_type": "code",
   "execution_count": 66,
   "metadata": {},
   "outputs": [
    {
     "name": "stderr",
     "output_type": "stream",
     "text": [
      "/anaconda3/lib/python3.6/site-packages/matplotlib/cbook/deprecation.py:107: MatplotlibDeprecationWarning: Adding an axes using the same arguments as a previous axes currently reuses the earlier instance.  In a future version, a new instance will always be created and returned.  Meanwhile, this warning can be suppressed, and the future behavior ensured, by passing a unique label to each axes instance.\n",
      "  warnings.warn(message, mplDeprecation, stacklevel=1)\n"
     ]
    },
    {
     "data": {
      "image/png": "[encoded data removed]",
      "text/plain": [
       "<Figure size 432x288 with 3 Axes>"
      ]
     },
     "metadata": {},
     "output_type": "display_data"
    }
   ],
   "source": [
    "SS_Mut=[0.96, 0.965, 0.97, 0.975, 0.98, 0.985, 0.99, 0.995, 1.0]\n",
    "SS_Gens=[264, 104, 104,  39,  25,  16,  70,   3,   4]\n",
    "\n",
    "SP_Mut=[0.96, 0.965, 0.97, 0.975, 0.98, 0.985, 0.99, 0.995, 1.0]\n",
    "SP_Gens=[464, 204, 104,  39,  25,  16,  13,   3,   4]\n",
    "\n",
    "MI_Mut=[0.96, 0.965, 0.97, 0.975, 0.98, 0.985, 0.99, 0.995, 1.0]\n",
    "MI_Gens=[7004, 404, 54,  39,  25,  16,  13,   3,   4]\n",
    "\n",
    "\n",
    "fig=plt.figure()\n",
    "\n",
    "fig.suptitle('Generational Equivelents Requires For Full Convergence')\n",
    "\n",
    "ax=fig.add_subplot(111, label=\"1\",frame_on=True)\n",
    "ax2=fig.add_subplot(111, label=\"2\", frame_on=False)\n",
    "ax3=fig.add_subplot(111, label=\"3\", frame_on=False)\n",
    "ax4=fig.add_subplot(111, label=\"3\", frame_on=False)\n",
    "\n",
    "\n",
    "ax2.plot(SP_Mut, SP_Gens, color=\"C1\")\n",
    "ax3.plot(MI_Mut, MI_Gens, color=\"C3\")\n",
    "ax4.plot(SS_Mut, SS_Gens, color=\"C5\")\n",
    "\n",
    "ax.set_xlabel(\"Mutation Rate\", color=\"C7\")\n",
    "ax.set_ylabel(\"Generations\", color=\"C7\")\n",
    "ax.tick_params(axis='x', colors=\"C7\")\n",
    "ax.tick_params(axis='y', colors=\"C7\")\n",
    "\n",
    "\n",
    "ax2.xaxis.set_visible(False)\n",
    "ax2.yaxis.set_visible(False)\n",
    "ax3.xaxis.set_visible(False)\n",
    "ax3.yaxis.set_visible(False)\n",
    "ax4.xaxis.set_visible(False)\n",
    "ax4.yaxis.set_visible(False)\n",
    "\n",
    "major_ticks = np.arange(0,10000,1000)\n",
    "minor_ticks = np.arange(0, 0.96, 0.05)\n",
    "ax.set_xlabel(\"Mutation Rate\", color=\"C7\")\n",
    "ax.set_ylabel(\"Generations\", color=\"C7\")\n",
    "ax.tick_params(axis='x', colors=\"C7\")\n",
    "ax.tick_params(axis='y', colors=\"C7\")\n",
    "ax.set_xticks(minor_ticks)\n",
    "ax.set_xticks(minor_ticks, minor=True)\n",
    "ax.set_yticks(major_ticks)\n",
    "ax.set_yticks(minor_ticks, minor=True)\n",
    "ax.grid(which='both')\n",
    "ax.grid(which='minor', alpha=0.2)\n",
    "ax.grid(which='major', alpha=0.7)\n",
    "\n",
    "\n",
    "plt.show()"
   ]
  },
  {
   "cell_type": "code",
   "execution_count": 67,
   "metadata": {},
   "outputs": [
    {
     "data": {
      "image/png": "[encoded data removed]",
      "text/plain": [
       "<Figure size 1332x756 with 1 Axes>"
      ]
     },
     "metadata": {},
     "output_type": "display_data"
    }
   ],
   "source": [
    "N = 9\n",
    "\n",
    "SS_Mut=(0.96, 0.965, 0.97, 0.975, 0.98, 0.985, 0.99, 0.995, 1.0)\n",
    "SS_Gens=(264, 104, 104,  39,  25,  16,  70,   3,   4)\n",
    "\n",
    "\n",
    "#Set axis values\n",
    "major_ticks = np.arange(0,10000,1000)\n",
    "minor_ticks = np.arange(0,10000,100)\n",
    "men_means = (20, 35, 30, 35, 27, 30, 31, 30, 30)\n",
    "men_std = (2, 3, 4, 1, 2, 5 ,6, 8, 9)\n",
    "\n",
    "ind = np.arange(N)  # the x locations for the groups\n",
    "width = 0.25       # the width of the bars\n",
    "\n",
    "fig, ax = plt.subplots()\n",
    "rects1 = ax.bar(ind, men_means, width, color='r', yerr=men_std)\n",
    "\n",
    "women_means = (205, 32, 34, 20, 25, 30, 29, 35, 35)\n",
    "women_std = (3, 5, 2, 3, 3, 4, 5, 8, 9)\n",
    "rects2 = ax.bar(ind + width, women_means, width, color='y', yerr=women_std)\n",
    "rects3 = ax.bar(ind - width, women_means, width, color='b', yerr=women_std)\n",
    "\n",
    "\n",
    "\n",
    "# add some text for labels, title and axes ticks\n",
    "ax.set_ylabel('Generations')\n",
    "ax.set_xlabel('Mutation Rate')\n",
    "ax.set_title('Scores by group and gender')\n",
    "ax.set_xticks(ind + width / 2)\n",
    "ax.set_xticklabels((0.96, 0.965, 0.97, 0.975, 0.98, 0.985, 0.99, 0.995, 1.0))\n",
    "ax.set_yticklabels((major_ticks))\n",
    "ax.legend((rects1[0], rects2[0], rects3[0]), ('Steady State', 'Spatial','Microbial'))\n",
    "\n",
    "\n",
    "# set axis spacing,color\n",
    "ax.tick_params(axis='x', colors=\"C7\")\n",
    "ax.tick_params(axis='y', colors=\"C7\")\n",
    "ax.set_yticks(major_ticks)\n",
    "ax.set_yticks(minor_ticks, minor=True)\n",
    "ax.grid(which='both')\n",
    "ax.grid(which='minor', alpha=0.2)\n",
    "ax.grid(which='major', alpha=1.9)\n",
    "\n",
    "\n",
    "\n",
    "\n",
    "def autolabel(rects):\n",
    "    \"\"\"\n",
    "    Attach a text label above each bar displaying its height\n",
    "    \"\"\"\n",
    "    for rect in rects:\n",
    "        height = rect.get_height()\n",
    "        ax.text(rect.get_x() + rect.get_width()/2., 1.05*height,\n",
    "                '%d' % int(height),\n",
    "                ha='center', va='bottom')\n",
    "\n",
    "autolabel(rects1)\n",
    "autolabel(rects2)\n",
    "autolabel(rects3)\n",
    "ax.grid()\n",
    "fig.set_size_inches(18.5, 10.5, forward=True)\n",
    "plt.show()\n"
   ]
  },
  {
   "cell_type": "code",
   "execution_count": null,
   "metadata": {},
   "outputs": [],
   "source": []
  },
  {
   "cell_type": "code",
   "execution_count": null,
   "metadata": {},
   "outputs": [],
   "source": []
  },
  {
   "cell_type": "code",
   "execution_count": null,
   "metadata": {},
   "outputs": [],
   "source": []
  },
  {
   "cell_type": "code",
   "execution_count": null,
   "metadata": {},
   "outputs": [],
   "source": []
  },
  {
   "cell_type": "code",
   "execution_count": null,
   "metadata": {},
   "outputs": [],
   "source": []
  },
  {
   "cell_type": "code",
   "execution_count": null,
   "metadata": {},
   "outputs": [],
   "source": []
  }
 ],
 "metadata": {
  "kernelspec": {
   "display_name": "Python 3",
   "language": "python",
   "name": "python3"
  },
  "language_info": {
   "codemirror_mode": {
    "name": "ipython",
    "version": 3
   },
   "file_extension": ".py",
   "mimetype": "text/x-python",
   "name": "python",
   "nbconvert_exporter": "python",
   "pygments_lexer": "ipython3",
   "version": "3.6.5"
  }
 },
 "nbformat": 4,
 "nbformat_minor": 2
}
